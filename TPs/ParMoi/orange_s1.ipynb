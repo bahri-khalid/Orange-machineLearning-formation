{
 "cells": [
  {
   "cell_type": "code",
   "execution_count": 40,
   "id": "34ba336a",
   "metadata": {},
   "outputs": [],
   "source": [
    "import numpy as np\n",
    "import pandas as pd\n",
    "from sklearn.datasets import make_regression"
   ]
  },
  {
   "cell_type": "code",
   "execution_count": 146,
   "id": "99c6e819",
   "metadata": {},
   "outputs": [],
   "source": [
    "X,y = make_regression(n_samples=100, n_features=5,noise=4.0, bias=100.0,random_state=0)\n",
    "X = pd.DataFrame(X, columns = ['mois1','mois2','mois3','mois4','mois5'])\n",
    "y=pd.DataFrame(y,columns=['CLV'])\n",
    "for i in X.columns:\n",
    "        X[i] = abs(X[i].round()*8)\n",
    "\n",
    "y=abs(y).round()"
   ]
  },
  {
   "cell_type": "code",
   "execution_count": 114,
   "id": "f94e7399",
   "metadata": {},
   "outputs": [],
   "source": [
    "from sklearn.linear_model import LinearRegression"
   ]
  },
  {
   "cell_type": "code",
   "execution_count": 122,
   "id": "5a235311",
   "metadata": {},
   "outputs": [],
   "source": [
    "model = LinearRegression()"
   ]
  },
  {
   "cell_type": "code",
   "execution_count": 147,
   "id": "e2a7f2c4",
   "metadata": {},
   "outputs": [
    {
     "data": {
      "text/plain": [
       "0.07241666668719382"
      ]
     },
     "execution_count": 147,
     "metadata": {},
     "output_type": "execute_result"
    }
   ],
   "source": [
    "model.fit(X,y)\n",
    "predict = model.predict(X)\n",
    "model.score(X,y)"
   ]
  },
  {
   "cell_type": "code",
   "execution_count": 156,
   "id": "d477ad93",
   "metadata": {},
   "outputs": [],
   "source": [
    "from sklearn.metrics import mean_squared_error"
   ]
  },
  {
   "cell_type": "code",
   "execution_count": 157,
   "id": "dd320255",
   "metadata": {},
   "outputs": [],
   "source": [
    "def predict_benchmark(X):\n",
    "    return [132]*len(X)"
   ]
  },
  {
   "cell_type": "code",
   "execution_count": 165,
   "id": "daf1a556",
   "metadata": {},
   "outputs": [
    {
     "name": "stdout",
     "output_type": "stream",
     "text": [
      "error for the real prediciton : 9942.17905332165\n",
      "error of the benchmark : 10718.43\n"
     ]
    }
   ],
   "source": [
    "predict_benchM = predict_benchmark(X)\n",
    "print('error for the real prediciton :',mean_squared_error(y,predict))\n",
    "print('error of the benchmark :',mean_squared_error(y,predict_benchM))\n",
    "\n",
    "#if the error from your model is lessthan the benchmark error, the we said that your model is acceptable"
   ]
  },
  {
   "cell_type": "code",
   "execution_count": 164,
   "id": "a43193af",
   "metadata": {},
   "outputs": [
    {
     "data": {
      "text/html": [
       "<div>\n",
       "<style scoped>\n",
       "    .dataframe tbody tr th:only-of-type {\n",
       "        vertical-align: middle;\n",
       "    }\n",
       "\n",
       "    .dataframe tbody tr th {\n",
       "        vertical-align: top;\n",
       "    }\n",
       "\n",
       "    .dataframe thead th {\n",
       "        text-align: right;\n",
       "    }\n",
       "</style>\n",
       "<table border=\"1\" class=\"dataframe\">\n",
       "  <thead>\n",
       "    <tr style=\"text-align: right;\">\n",
       "      <th></th>\n",
       "      <th>mois1</th>\n",
       "      <th>mois2</th>\n",
       "      <th>mois3</th>\n",
       "      <th>mois4</th>\n",
       "      <th>mois5</th>\n",
       "    </tr>\n",
       "  </thead>\n",
       "  <tbody>\n",
       "    <tr>\n",
       "      <th>0</th>\n",
       "      <td>0.0</td>\n",
       "      <td>0.0</td>\n",
       "      <td>8.0</td>\n",
       "      <td>0.0</td>\n",
       "      <td>8.0</td>\n",
       "    </tr>\n",
       "    <tr>\n",
       "      <th>1</th>\n",
       "      <td>0.0</td>\n",
       "      <td>0.0</td>\n",
       "      <td>8.0</td>\n",
       "      <td>0.0</td>\n",
       "      <td>0.0</td>\n",
       "    </tr>\n",
       "    <tr>\n",
       "      <th>2</th>\n",
       "      <td>16.0</td>\n",
       "      <td>8.0</td>\n",
       "      <td>8.0</td>\n",
       "      <td>8.0</td>\n",
       "      <td>8.0</td>\n",
       "    </tr>\n",
       "    <tr>\n",
       "      <th>3</th>\n",
       "      <td>0.0</td>\n",
       "      <td>8.0</td>\n",
       "      <td>0.0</td>\n",
       "      <td>0.0</td>\n",
       "      <td>0.0</td>\n",
       "    </tr>\n",
       "    <tr>\n",
       "      <th>4</th>\n",
       "      <td>8.0</td>\n",
       "      <td>8.0</td>\n",
       "      <td>8.0</td>\n",
       "      <td>0.0</td>\n",
       "      <td>16.0</td>\n",
       "    </tr>\n",
       "  </tbody>\n",
       "</table>\n",
       "</div>"
      ],
      "text/plain": [
       "   mois1  mois2  mois3  mois4  mois5\n",
       "0    0.0    0.0    8.0    0.0    8.0\n",
       "1    0.0    0.0    8.0    0.0    0.0\n",
       "2   16.0    8.0    8.0    8.0    8.0\n",
       "3    0.0    8.0    0.0    0.0    0.0\n",
       "4    8.0    8.0    8.0    0.0   16.0"
      ]
     },
     "execution_count": 164,
     "metadata": {},
     "output_type": "execute_result"
    }
   ],
   "source": [
    "X.head()"
   ]
  }
 ],
 "metadata": {
  "kernelspec": {
   "display_name": "Python 3 (ipykernel)",
   "language": "python",
   "name": "python3"
  },
  "language_info": {
   "codemirror_mode": {
    "name": "ipython",
    "version": 3
   },
   "file_extension": ".py",
   "mimetype": "text/x-python",
   "name": "python",
   "nbconvert_exporter": "python",
   "pygments_lexer": "ipython3",
   "version": "3.9.12"
  }
 },
 "nbformat": 4,
 "nbformat_minor": 5
}
